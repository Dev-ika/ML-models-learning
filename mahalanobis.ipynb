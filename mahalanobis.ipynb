{
  "cells": [
    {
      "cell_type": "markdown",
      "metadata": {
        "id": "view-in-github",
        "colab_type": "text"
      },
      "source": [
        "<a href=\"https://colab.research.google.com/github/Dev-ika/ML-models-learning/blob/main/mahalanobis.ipynb\" target=\"_parent\"><img src=\"https://colab.research.google.com/assets/colab-badge.svg\" alt=\"Open In Colab\"/></a>"
      ]
    },
    {
      "cell_type": "code",
      "execution_count": null,
      "metadata": {
        "collapsed": true,
        "id": "Pya9zNDbaZxC"
      },
      "outputs": [],
      "source": [
        "import pandas as pd\n",
        "import scipy as sp\n",
        "from scipy.spatial.distance import mahalanobis\n",
        "from ipykernel import kernelapp as app"
      ]
    },
    {
      "cell_type": "code",
      "execution_count": null,
      "metadata": {
        "collapsed": true,
        "id": "8qO3I0PwaZxG"
      },
      "outputs": [],
      "source": [
        "datadict = {\n",
        "'country': ['Argentina', 'Bolivia', 'Brazil', 'Chile', 'Ecuador', 'Colombia', 'Paraguay', 'Peru', 'Venezuela'],\n",
        "'d1': [0.34, -0.19, 0.37, 1.17, -0.31, -0.3, -0.48, -0.15, -0.61],\n",
        "'d2': [-0.57, -0.69, -0.28, 0.68, -2.19, -0.83, -0.53, -1, -1.39],\n",
        "'d3': [-0.02, -0.55, 0.07, 1.2, -0.14, -0.85, -0.9, -0.47, -1.02],\n",
        "'d4': [-0.69, -0.18, 0.05, 1.43, -0.02, -0.7, -0.72, 0.23, -1.08],\n",
        "'d5': [-0.83, -0.69, -0.39, 1.31, -0.7, -0.75, -1.04, -0.52, -1.22],\n",
        "'d6': [-0.45, -0.77, 0.05, 1.37, -0.1, -0.67, -1.4, -0.35, -0.89]}"
      ]
    },
    {
      "cell_type": "code",
      "execution_count": null,
      "metadata": {
        "collapsed": true,
        "id": "8OtwfY_0aZxG"
      },
      "outputs": [],
      "source": [
        "pairsdict = {\n",
        "'country1': ['Argentina', 'Chile', 'Ecuador', 'Peru'],\n",
        "'country2': ['Bolivia', 'Venezuela', 'Colombia', 'Peru']}"
      ]
    },
    {
      "cell_type": "code",
      "execution_count": null,
      "metadata": {
        "id": "I3mhNkl3aZxG",
        "outputId": "17e10ed1-984b-4ca5-f7aa-31058adaf136"
      },
      "outputs": [
        {
          "name": "stdout",
          "output_type": "stream",
          "text": [
            "     country    d1    d2    d3    d4    d5    d6\n",
            "0  Argentina  0.34 -0.57 -0.02 -0.69 -0.83 -0.45\n",
            "1    Bolivia -0.19 -0.69 -0.55 -0.18 -0.69 -0.77\n",
            "2     Brazil  0.37 -0.28  0.07  0.05 -0.39  0.05\n",
            "3      Chile  1.17  0.68  1.20  1.43  1.31  1.37\n",
            "4    Ecuador -0.31 -2.19 -0.14 -0.02 -0.70 -0.10\n",
            "5   Colombia -0.30 -0.83 -0.85 -0.70 -0.75 -0.67\n",
            "6   Paraguay -0.48 -0.53 -0.90 -0.72 -1.04 -1.40\n",
            "7       Peru -0.15 -1.00 -0.47  0.23 -0.52 -0.35\n",
            "8  Venezuela -0.61 -1.39 -1.02 -1.08 -1.22 -0.89\n"
          ]
        }
      ],
      "source": [
        "#DataFrame that contains the data for each country\n",
        "df = pd.DataFrame(datadict)\n",
        "print(df)"
      ]
    },
    {
      "cell_type": "code",
      "execution_count": null,
      "metadata": {
        "id": "sLtaNk0kaZxH",
        "outputId": "906c1329-0e7c-411e-b736-67f7e267ef61"
      },
      "outputs": [
        {
          "name": "stdout",
          "output_type": "stream",
          "text": [
            "    country1   country2\n",
            "0  Argentina    Bolivia\n",
            "1      Chile  Venezuela\n",
            "2    Ecuador   Colombia\n",
            "3       Peru       Peru\n"
          ]
        }
      ],
      "source": [
        "#DataFrame that contains the pairs for which we calculate the Mahalanobis distance\n",
        "pairs = pd.DataFrame(pairsdict)\n",
        "print(pairs)"
      ]
    },
    {
      "cell_type": "code",
      "execution_count": null,
      "metadata": {
        "scrolled": true,
        "id": "NizQz2F3aZxH",
        "outputId": "e646cbc9-e9b8-4226-f13e-98e24bdb7ed4"
      },
      "outputs": [
        {
          "data": {
            "text/html": [
              "<div>\n",
              "<style>\n",
              "    .dataframe thead tr:only-child th {\n",
              "        text-align: right;\n",
              "    }\n",
              "\n",
              "    .dataframe thead th {\n",
              "        text-align: left;\n",
              "    }\n",
              "\n",
              "    .dataframe tbody tr th {\n",
              "        vertical-align: top;\n",
              "    }\n",
              "</style>\n",
              "<table border=\"1\" class=\"dataframe\">\n",
              "  <thead>\n",
              "    <tr style=\"text-align: right;\">\n",
              "      <th></th>\n",
              "      <th>country1</th>\n",
              "      <th>country2</th>\n",
              "      <th>country_x</th>\n",
              "      <th>d1_x</th>\n",
              "      <th>d2_x</th>\n",
              "      <th>d3_x</th>\n",
              "      <th>d4_x</th>\n",
              "      <th>d5_x</th>\n",
              "      <th>d6_x</th>\n",
              "      <th>country_y</th>\n",
              "      <th>d1_y</th>\n",
              "      <th>d2_y</th>\n",
              "      <th>d3_y</th>\n",
              "      <th>d4_y</th>\n",
              "      <th>d5_y</th>\n",
              "      <th>d6_y</th>\n",
              "    </tr>\n",
              "  </thead>\n",
              "  <tbody>\n",
              "    <tr>\n",
              "      <th>0</th>\n",
              "      <td>Argentina</td>\n",
              "      <td>Bolivia</td>\n",
              "      <td>Argentina</td>\n",
              "      <td>0.34</td>\n",
              "      <td>-0.57</td>\n",
              "      <td>-0.02</td>\n",
              "      <td>-0.69</td>\n",
              "      <td>-0.83</td>\n",
              "      <td>-0.45</td>\n",
              "      <td>Bolivia</td>\n",
              "      <td>-0.19</td>\n",
              "      <td>-0.69</td>\n",
              "      <td>-0.55</td>\n",
              "      <td>-0.18</td>\n",
              "      <td>-0.69</td>\n",
              "      <td>-0.77</td>\n",
              "    </tr>\n",
              "    <tr>\n",
              "      <th>1</th>\n",
              "      <td>Chile</td>\n",
              "      <td>Venezuela</td>\n",
              "      <td>Chile</td>\n",
              "      <td>1.17</td>\n",
              "      <td>0.68</td>\n",
              "      <td>1.20</td>\n",
              "      <td>1.43</td>\n",
              "      <td>1.31</td>\n",
              "      <td>1.37</td>\n",
              "      <td>Venezuela</td>\n",
              "      <td>-0.61</td>\n",
              "      <td>-1.39</td>\n",
              "      <td>-1.02</td>\n",
              "      <td>-1.08</td>\n",
              "      <td>-1.22</td>\n",
              "      <td>-0.89</td>\n",
              "    </tr>\n",
              "    <tr>\n",
              "      <th>2</th>\n",
              "      <td>Ecuador</td>\n",
              "      <td>Colombia</td>\n",
              "      <td>Ecuador</td>\n",
              "      <td>-0.31</td>\n",
              "      <td>-2.19</td>\n",
              "      <td>-0.14</td>\n",
              "      <td>-0.02</td>\n",
              "      <td>-0.70</td>\n",
              "      <td>-0.10</td>\n",
              "      <td>Colombia</td>\n",
              "      <td>-0.30</td>\n",
              "      <td>-0.83</td>\n",
              "      <td>-0.85</td>\n",
              "      <td>-0.70</td>\n",
              "      <td>-0.75</td>\n",
              "      <td>-0.67</td>\n",
              "    </tr>\n",
              "    <tr>\n",
              "      <th>3</th>\n",
              "      <td>Peru</td>\n",
              "      <td>Peru</td>\n",
              "      <td>Peru</td>\n",
              "      <td>-0.15</td>\n",
              "      <td>-1.00</td>\n",
              "      <td>-0.47</td>\n",
              "      <td>0.23</td>\n",
              "      <td>-0.52</td>\n",
              "      <td>-0.35</td>\n",
              "      <td>Peru</td>\n",
              "      <td>-0.15</td>\n",
              "      <td>-1.00</td>\n",
              "      <td>-0.47</td>\n",
              "      <td>0.23</td>\n",
              "      <td>-0.52</td>\n",
              "      <td>-0.35</td>\n",
              "    </tr>\n",
              "  </tbody>\n",
              "</table>\n",
              "</div>"
            ],
            "text/plain": [
              "    country1   country2  country_x  d1_x  d2_x  d3_x  d4_x  d5_x  d6_x  \\\n",
              "0  Argentina    Bolivia  Argentina  0.34 -0.57 -0.02 -0.69 -0.83 -0.45   \n",
              "1      Chile  Venezuela      Chile  1.17  0.68  1.20  1.43  1.31  1.37   \n",
              "2    Ecuador   Colombia    Ecuador -0.31 -2.19 -0.14 -0.02 -0.70 -0.10   \n",
              "3       Peru       Peru       Peru -0.15 -1.00 -0.47  0.23 -0.52 -0.35   \n",
              "\n",
              "   country_y  d1_y  d2_y  d3_y  d4_y  d5_y  d6_y  \n",
              "0    Bolivia -0.19 -0.69 -0.55 -0.18 -0.69 -0.77  \n",
              "1  Venezuela -0.61 -1.39 -1.02 -1.08 -1.22 -0.89  \n",
              "2   Colombia -0.30 -0.83 -0.85 -0.70 -0.75 -0.67  \n",
              "3       Peru -0.15 -1.00 -0.47  0.23 -0.52 -0.35  "
            ]
          },
          "execution_count": 71,
          "metadata": {},
          "output_type": "execute_result"
        }
      ],
      "source": [
        "#Add data to the country pairs\n",
        "pairs = pairs.merge(df, how='left', left_on=['country1'], right_on=['country'])\n",
        "pairs = pairs.merge(df, how='left', left_on=['country2'], right_on=['country'])\n",
        "pairs"
      ]
    },
    {
      "cell_type": "code",
      "execution_count": null,
      "metadata": {
        "id": "0dB4dP1XaZxI",
        "outputId": "bb6032b6-b62e-4640-bfb1-d65f69620175"
      },
      "outputs": [
        {
          "name": "stdout",
          "output_type": "stream",
          "text": [
            "    country1   country2  country_x  d1_x  d2_x  d3_x  d4_x  d5_x  d6_x  \\\n",
            "0  Argentina    Bolivia  Argentina  0.34 -0.57 -0.02 -0.69 -0.83 -0.45   \n",
            "1      Chile  Venezuela      Chile  1.17  0.68  1.20  1.43  1.31  1.37   \n",
            "2    Ecuador   Colombia    Ecuador -0.31 -2.19 -0.14 -0.02 -0.70 -0.10   \n",
            "3       Peru       Peru       Peru -0.15 -1.00 -0.47  0.23 -0.52 -0.35   \n",
            "\n",
            "   country_y  d1_y  d2_y  d3_y  d4_y  d5_y  d6_y  \\\n",
            "0    Bolivia -0.19 -0.69 -0.55 -0.18 -0.69 -0.77   \n",
            "1  Venezuela -0.61 -1.39 -1.02 -1.08 -1.22 -0.89   \n",
            "2   Colombia -0.30 -0.83 -0.85 -0.70 -0.75 -0.67   \n",
            "3       Peru -0.15 -1.00 -0.47  0.23 -0.52 -0.35   \n",
            "\n",
            "                                     vector1  \\\n",
            "0  [0.34, -0.57, -0.02, -0.69, -0.83, -0.45]   \n",
            "1        [1.17, 0.68, 1.2, 1.43, 1.31, 1.37]   \n",
            "2   [-0.31, -2.19, -0.14, -0.02, -0.7, -0.1]   \n",
            "3   [-0.15, -1.0, -0.47, 0.23, -0.52, -0.35]   \n",
            "\n",
            "                                      vector2  \n",
            "0  [-0.19, -0.69, -0.55, -0.18, -0.69, -0.77]  \n",
            "1  [-0.61, -1.39, -1.02, -1.08, -1.22, -0.89]  \n",
            "2    [-0.3, -0.83, -0.85, -0.7, -0.75, -0.67]  \n",
            "3    [-0.15, -1.0, -0.47, 0.23, -0.52, -0.35]  \n"
          ]
        }
      ],
      "source": [
        "#Convert data columns to list in a single cell\n",
        "pairs['vector1'] = pairs[['d1_x','d2_x','d3_x','d4_x','d5_x','d6_x']].values.tolist()\n",
        "pairs['vector2'] = pairs[['d1_y','d2_y','d3_y','d4_y','d5_y','d6_y']].values.tolist()\n",
        "print(pairs)"
      ]
    },
    {
      "cell_type": "code",
      "execution_count": null,
      "metadata": {
        "collapsed": true,
        "id": "QpEacIVeaZxI"
      },
      "outputs": [],
      "source": [
        "mahala = pairs[['country1', 'country2', 'vector1', 'vector2']]"
      ]
    },
    {
      "cell_type": "code",
      "execution_count": null,
      "metadata": {
        "collapsed": true,
        "id": "Pf_cTAcSaZxI"
      },
      "outputs": [],
      "source": [
        "#Calculate covariance matrix\n",
        "covmx = df.cov()\n",
        "invcovmx = sp.linalg.inv(covmx)"
      ]
    },
    {
      "cell_type": "code",
      "execution_count": null,
      "metadata": {
        "id": "NEXqyXqKaZxI",
        "outputId": "3ac6afd5-b2ac-4252-86d6-a86190538829"
      },
      "outputs": [
        {
          "name": "stderr",
          "output_type": "stream",
          "text": [
            "/home/ibmsap/anaconda3/lib/python3.6/site-packages/ipykernel_launcher.py:2: SettingWithCopyWarning: \n",
            "A value is trying to be set on a copy of a slice from a DataFrame.\n",
            "Try using .loc[row_indexer,col_indexer] = value instead\n",
            "\n",
            "See the caveats in the documentation: http://pandas.pydata.org/pandas-docs/stable/indexing.html#indexing-view-versus-copy\n",
            "  \n"
          ]
        }
      ],
      "source": [
        "#Calculate Mahalanobis distance\n",
        "mahala['mahala_dist'] = mahala.apply(lambda x: (mahalanobis(x['vector1'], x['vector2'], invcovmx)), axis=1)"
      ]
    },
    {
      "cell_type": "code",
      "execution_count": null,
      "metadata": {
        "collapsed": true,
        "id": "tJp9zUQWaZxJ"
      },
      "outputs": [],
      "source": [
        "mahala = mahala[['country1', 'country2', 'mahala_dist']]"
      ]
    },
    {
      "cell_type": "code",
      "execution_count": null,
      "metadata": {
        "id": "i9hCCg4maZxJ",
        "outputId": "8ca65b37-e473-446c-f642-200613b00d5c"
      },
      "outputs": [
        {
          "data": {
            "text/html": [
              "<div>\n",
              "<style>\n",
              "    .dataframe thead tr:only-child th {\n",
              "        text-align: right;\n",
              "    }\n",
              "\n",
              "    .dataframe thead th {\n",
              "        text-align: left;\n",
              "    }\n",
              "\n",
              "    .dataframe tbody tr th {\n",
              "        vertical-align: top;\n",
              "    }\n",
              "</style>\n",
              "<table border=\"1\" class=\"dataframe\">\n",
              "  <thead>\n",
              "    <tr style=\"text-align: right;\">\n",
              "      <th></th>\n",
              "      <th>country1</th>\n",
              "      <th>country2</th>\n",
              "      <th>mahala_dist</th>\n",
              "    </tr>\n",
              "  </thead>\n",
              "  <tbody>\n",
              "    <tr>\n",
              "      <th>0</th>\n",
              "      <td>Argentina</td>\n",
              "      <td>Bolivia</td>\n",
              "      <td>3.003186</td>\n",
              "    </tr>\n",
              "    <tr>\n",
              "      <th>1</th>\n",
              "      <td>Chile</td>\n",
              "      <td>Venezuela</td>\n",
              "      <td>3.829020</td>\n",
              "    </tr>\n",
              "    <tr>\n",
              "      <th>2</th>\n",
              "      <td>Ecuador</td>\n",
              "      <td>Colombia</td>\n",
              "      <td>3.915868</td>\n",
              "    </tr>\n",
              "    <tr>\n",
              "      <th>3</th>\n",
              "      <td>Peru</td>\n",
              "      <td>Peru</td>\n",
              "      <td>0.000000</td>\n",
              "    </tr>\n",
              "  </tbody>\n",
              "</table>\n",
              "</div>"
            ],
            "text/plain": [
              "    country1   country2  mahala_dist\n",
              "0  Argentina    Bolivia     3.003186\n",
              "1      Chile  Venezuela     3.829020\n",
              "2    Ecuador   Colombia     3.915868\n",
              "3       Peru       Peru     0.000000"
            ]
          },
          "execution_count": 77,
          "metadata": {},
          "output_type": "execute_result"
        }
      ],
      "source": [
        "mahala"
      ]
    },
    {
      "cell_type": "code",
      "execution_count": null,
      "metadata": {
        "collapsed": true,
        "id": "CTr2QOZsaZxJ"
      },
      "outputs": [],
      "source": []
    }
  ],
  "metadata": {
    "kernelspec": {
      "display_name": "Python 3",
      "language": "python",
      "name": "python3"
    },
    "language_info": {
      "codemirror_mode": {
        "name": "ipython",
        "version": 3
      },
      "file_extension": ".py",
      "mimetype": "text/x-python",
      "name": "python",
      "nbconvert_exporter": "python",
      "pygments_lexer": "ipython3",
      "version": "3.6.3"
    },
    "colab": {
      "provenance": [],
      "include_colab_link": true
    }
  },
  "nbformat": 4,
  "nbformat_minor": 0
}
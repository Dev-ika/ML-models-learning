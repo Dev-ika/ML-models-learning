{
 "cells": [
  {
   "cell_type": "code",
   "execution_count": 77,
   "metadata": {
    "collapsed": true
   },
   "outputs": [],
   "source": [
    "from matplotlib import pyplot as plt\n",
    "from matplotlib.mlab import bivariate_normal\n",
    "from sklearn import datasets\n",
    "import pandas as pd\n",
    "import numpy as np\n",
    "import scipy as sp\n",
    "from scipy.spatial.distance import mahalanobis\n",
    "from ipykernel import kernelapp as app"
   ]
  },
  {
   "cell_type": "code",
   "execution_count": 78,
   "metadata": {},
   "outputs": [
    {
     "name": "stderr",
     "output_type": "stream",
     "text": [
      "/home/ibmsap/anaconda3/lib/python3.6/site-packages/ipykernel_launcher.py:46: SettingWithCopyWarning: \n",
      "A value is trying to be set on a copy of a slice from a DataFrame.\n",
      "Try using .loc[row_indexer,col_indexer] = value instead\n",
      "\n",
      "See the caveats in the documentation: http://pandas.pydata.org/pandas-docs/stable/indexing.html#indexing-view-versus-copy\n"
     ]
    },
    {
     "data": {
      "text/html": [
       "<div>\n",
       "<style>\n",
       "    .dataframe thead tr:only-child th {\n",
       "        text-align: right;\n",
       "    }\n",
       "\n",
       "    .dataframe thead th {\n",
       "        text-align: left;\n",
       "    }\n",
       "\n",
       "    .dataframe tbody tr th {\n",
       "        vertical-align: top;\n",
       "    }\n",
       "</style>\n",
       "<table border=\"1\" class=\"dataframe\">\n",
       "  <thead>\n",
       "    <tr style=\"text-align: right;\">\n",
       "      <th></th>\n",
       "      <th>c1</th>\n",
       "      <th>c2</th>\n",
       "      <th>mahala_dist</th>\n",
       "    </tr>\n",
       "  </thead>\n",
       "  <tbody>\n",
       "    <tr>\n",
       "      <th>0</th>\n",
       "      <td>1</td>\n",
       "      <td>2</td>\n",
       "      <td>2.0</td>\n",
       "    </tr>\n",
       "    <tr>\n",
       "      <th>1</th>\n",
       "      <td>2</td>\n",
       "      <td>3</td>\n",
       "      <td>2.0</td>\n",
       "    </tr>\n",
       "    <tr>\n",
       "      <th>2</th>\n",
       "      <td>3</td>\n",
       "      <td>1</td>\n",
       "      <td>2.0</td>\n",
       "    </tr>\n",
       "  </tbody>\n",
       "</table>\n",
       "</div>"
      ],
      "text/plain": [
       "  c1 c2  mahala_dist\n",
       "0  1  2          2.0\n",
       "1  2  3          2.0\n",
       "2  3  1          2.0"
      ]
     },
     "execution_count": 78,
     "metadata": {},
     "output_type": "execute_result"
    }
   ],
   "source": [
    "iris = datasets.load_iris()\n",
    "#print(iris)\n",
    "df = pd.DataFrame(iris.data, columns=['sepal_length', 'sepal_width', 'petal_length', 'petal_width'])\n",
    "df['target']=iris.target\n",
    "\n",
    "d1=[]\n",
    "d2=[]\n",
    "\n",
    "grouped=df.groupby('target')\n",
    "c=grouped['petal_length'].agg(np.mean)\n",
    "d=grouped['petal_width'].agg(np.mean)\n",
    "\n",
    "for i in range(0,3):\n",
    "    d1.append(c[i])\n",
    "    d2.append(d[i])\n",
    "\n",
    "datadict = {\n",
    "'country': ['1', '2', '3'],\n",
    "'d1': d1,\n",
    "'d2': d2}\n",
    "\n",
    "df = pd.DataFrame(datadict)\n",
    "\n",
    "pairsdict = {\n",
    "'c1': ['1', '2', '3'],\n",
    "'c2': ['2', '3', '1y']}\n",
    "\n",
    "pairs = pd.DataFrame(pairsdict)\n",
    "\n",
    "\n",
    "pairs = pairs.merge(df, how='left', left_on=['c1'], right_on=['country'])\n",
    "pairs = pairs.merge(df, how='left', left_on=['c2'], right_on=['country'])\n",
    "\n",
    "\n",
    "pairs['vector1'] = pairs[['d1_x','d2_x']].values.tolist()\n",
    "pairs['vector2'] = pairs[['d1_y','d2_y']].values.tolist()\n",
    "\n",
    "mahala = pairs[['c1', 'c2', 'vector1', 'vector2']]\n",
    "mahala\n",
    "\n",
    "covmx = df.cov()\n",
    "invcovmx = sp.linalg.inv(covmx)\n",
    "invcovmx\n",
    "\n",
    "\n",
    "mahala['mahala_dist'] = mahala.apply(lambda x: (mahalanobis(x['vector1'], x['vector2'], invcovmx)), axis=1)\n",
    "\n",
    "mahala = mahala[['c1', 'c2', 'mahala_dist']]\n",
    "mahala"
   ]
  },
  {
   "cell_type": "code",
   "execution_count": null,
   "metadata": {
    "collapsed": true
   },
   "outputs": [],
   "source": [
    "Consider the four-dimensional data set “IRIS data”. The data set contains 3 classes of 50 instances each, where each class refers to a type of iris plant. The four attributes are: sepal length in cm, sepal width in cm, petal length in cm, and petal width in cm. \n",
    "    Show a scatter plot of the first two attributes. Use different symbols to plot data from different classes. \n",
    "Show the frequency distribution of each feature for each class in the form of a histogram. \n",
    "2.\tSuperpose the histograms for the three classes in the same figure. Use borders of different colours for different classes. Do not use fillings for the histograms. \n",
    "3. By manual inspection, determine the two best features for separating the classes. Draw a scatter plot of the data (two best features) that shows points of different classes in different symbols. \n"
   ]
  }
 ],
 "metadata": {
  "kernelspec": {
   "display_name": "Python 3",
   "language": "python",
   "name": "python3"
  },
  "language_info": {
   "codemirror_mode": {
    "name": "ipython",
    "version": 3
   },
   "file_extension": ".py",
   "mimetype": "text/x-python",
   "name": "python",
   "nbconvert_exporter": "python",
   "pygments_lexer": "ipython3",
   "version": "3.6.3"
  }
 },
 "nbformat": 4,
 "nbformat_minor": 1
}
